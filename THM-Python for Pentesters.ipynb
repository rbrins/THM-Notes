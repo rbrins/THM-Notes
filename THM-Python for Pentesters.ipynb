{
 "cells": [
  {
   "cell_type": "code",
   "execution_count": null,
   "metadata": {},
   "outputs": [],
   "source": [
    "# Python for Pentesters\n",
    "\n",
    "# PyInstaller - used to compile to exe\n",
    "# Py2exe - used to compile to exe\n",
    "# auto-py-to-exe - used to compile to exe\n",
    "\n"
   ]
  }
 ],
 "metadata": {
  "interpreter": {
   "hash": "0727484f7897ec1c64cf3b218850d408e8d9bf2303b3923db519a8f45e0d001d"
  },
  "kernelspec": {
   "display_name": "Python 3.10.1 64-bit",
   "language": "python",
   "name": "python3"
  },
  "language_info": {
   "name": "python",
   "version": "3.10.1"
  },
  "orig_nbformat": 4
 },
 "nbformat": 4,
 "nbformat_minor": 2
}
