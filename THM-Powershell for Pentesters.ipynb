{
 "cells": [
  {
   "cell_type": "code",
   "execution_count": null,
   "metadata": {},
   "outputs": [],
   "source": [
    "# THM - Powershell for Pentesters\n",
    "\n",
    "## Powerview \n",
    "Import-Module .\\powerview.ps1\n",
    "Get-NetDomainController # gives us good information like the DC IP Address\n",
    "\n",
    "Get-NetUser | Get-Member # this gets us the MemberTypes (and property types) of the User\n",
    "Get-NetUser | Select-Object -Property samaccountname, description # returns user names and description\n",
    "Get-NetUser | Select-Object -Property samaccountname, name, useraccountcontrol # returns user names and account types like disabled\n",
    "\n",
    "# Users in groups\n",
    "Get-NetGroupMember \"Domain Admins\" # returns object with MemberName as the samaccountname of the NetUser object\n",
    "\n",
    "# Finding Shares\n",
    "Find-DomainSahre -CheckShareAccess\n",
    "\n",
    "\n"
   ]
  }
 ],
 "metadata": {
  "interpreter": {
   "hash": "0727484f7897ec1c64cf3b218850d408e8d9bf2303b3923db519a8f45e0d001d"
  },
  "kernelspec": {
   "display_name": "Python 3.10.1 64-bit",
   "language": "python",
   "name": "python3"
  },
  "language_info": {
   "name": "python",
   "version": "3.10.1"
  },
  "orig_nbformat": 4
 },
 "nbformat": 4,
 "nbformat_minor": 2
}
